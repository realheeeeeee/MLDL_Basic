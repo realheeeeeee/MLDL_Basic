{
 "cells": [
  {
   "cell_type": "markdown",
   "id": "17e9e2c5",
   "metadata": {},
   "source": [
    "## 데이터 준비 및 확인"
   ]
  },
  {
   "cell_type": "code",
   "execution_count": 40,
   "id": "201316fe",
   "metadata": {},
   "outputs": [],
   "source": [
    "# 필요한 라이브러리 불러오기\n",
    "\n",
    "import numpy as np\n",
    "import matplotlib.pyplot as plt\n",
    "\n",
    "from sklearn.model_selection import train_test_split\n",
    "from sklearn.neighbors import KNeighborsClassifier"
   ]
  },
  {
   "cell_type": "code",
   "execution_count": 11,
   "id": "6519760e",
   "metadata": {},
   "outputs": [],
   "source": [
    "# 사용할 예제 데이터 (bream & smelt)\n",
    "\n",
    "fish_length = [25.4, 26.3, 26.5, 29.0, 29.0, 29.7, 29.7, 30.0, 30.0, 30.7, 31.0, 31.0, \n",
    "                31.5, 32.0, 32.0, 32.0, 33.0, 33.0, 33.5, 33.5, 34.0, 34.0, 34.5, 35.0, \n",
    "                35.0, 35.0, 35.0, 36.0, 36.0, 37.0, 38.5, 38.5, 39.5, 41.0, 41.0,\n",
    "                9.8, 10.5, 10.6, 11.0, 11.2, 11.3, 11.8, 11.8, 12.0, 12.2, 12.4, 13.0, 14.3, 15.0]\n",
    "fish_weight = [242.0, 290.0, 340.0, 363.0, 430.0, 450.0, 500.0, 390.0, 450.0, 500.0, 475.0, 500.0, \n",
    "                500.0, 340.0, 600.0, 600.0, 700.0, 700.0, 610.0, 650.0, 575.0, 685.0, 620.0, 680.0, \n",
    "                700.0, 725.0, 720.0, 714.0, 850.0, 1000.0, 920.0, 955.0, 925.0, 975.0, 950.0,\n",
    "                6.7, 7.5, 7.0, 9.7, 9.8, 8.7, 10.0, 9.9, 9.8, 12.2, 13.4, 12.2, 19.7, 19.9]"
   ]
  },
  {
   "cell_type": "code",
   "execution_count": 12,
   "id": "6ccc39ce",
   "metadata": {},
   "outputs": [
    {
     "data": {
      "image/png": "[encoded data removed]",
      "text/plain": [
       "<Figure size 432x288 with 1 Axes>"
      ]
     },
     "metadata": {
      "needs_background": "light"
     },
     "output_type": "display_data"
    }
   ],
   "source": [
    "# 전체 데이터 산점도\n",
    "\n",
    "plt.figure()\n",
    "plt.scatter(fish_length, fish_weight)\n",
    "plt.show()"
   ]
  },
  {
   "cell_type": "code",
   "execution_count": 14,
   "id": "542ef591",
   "metadata": {},
   "outputs": [],
   "source": [
    "# 설명변수(X)\n",
    "\n",
    "fish_data = np.column_stack([fish_length, fish_weight]) # column_stack() - 여러 array를 행방향으로 이어붙임"
   ]
  },
  {
   "cell_type": "code",
   "execution_count": 16,
   "id": "e10d3df3",
   "metadata": {},
   "outputs": [
    {
     "data": {
      "text/plain": [
       "array([[ 25.4, 242. ],\n",
       "       [ 26.3, 290. ],\n",
       "       [ 26.5, 340. ],\n",
       "       [ 29. , 363. ],\n",
       "       [ 29. , 430. ]])"
      ]
     },
     "execution_count": 16,
     "metadata": {},
     "output_type": "execute_result"
    }
   ],
   "source": [
    "fish_data[:5]"
   ]
  },
  {
   "cell_type": "code",
   "execution_count": 38,
   "id": "c81a9f69",
   "metadata": {},
   "outputs": [],
   "source": [
    "# 타겟변수(y) 설정 (1 = bream, 0 = smelt)\n",
    "\n",
    "fish_target = np.concatenate([np.ones(35), np.zeros(14)]) # concatenate() - 여러 array를 이어붙이는 함수(pd.concat와 유사함)"
   ]
  },
  {
   "cell_type": "markdown",
   "id": "42fe2f7d",
   "metadata": {},
   "source": [
    "## 데이터 분할 (train_test_split)"
   ]
  },
  {
   "cell_type": "code",
   "execution_count": 51,
   "id": "a83e2327",
   "metadata": {},
   "outputs": [],
   "source": [
    "# train / test data 분할\n",
    "\n",
    "train_X, test_X, train_y, test_y = train_test_split(fish_data, fish_target, test_size = 0.2, \n",
    "                                                    stratify = fish_target, random_state = 1004)"
   ]
  },
  {
   "cell_type": "markdown",
   "id": "17dc1764",
   "metadata": {},
   "source": [
    "#### \"stratify = [target data]\" in train_test_split\n",
    "- 클래스 비율에 맞게 데이터를 나눔.\n",
    "- 훈련 데이터가 작거나 데이터 불균형일 때 특히 유용                        "
   ]
  },
  {
   "cell_type": "code",
   "execution_count": 74,
   "id": "9820707d",
   "metadata": {},
   "outputs": [
    {
     "data": {
      "text/plain": [
       "(2.5, 2.55, 2.33)"
      ]
     },
     "execution_count": 74,
     "metadata": {},
     "output_type": "execute_result"
    }
   ],
   "source": [
    "# stratify를 이용하여 데이터의 클래스 비율이 일정하게 나뉜 것을 확인할 수 있다.\n",
    "\n",
    "((fish_target == 1).sum() / (fish_target == 0).sum(), # 원데이터 1:0 비율\n",
    "round((train_y == 1).sum() / (train_y == 0).sum(),2), # train데이터 1:0 비율\n",
    "round((test_y == 1).sum() / (test_y == 0).sum(),2))   # test데이터 1:0 비율"
   ]
  },
  {
   "cell_type": "code",
   "execution_count": 77,
   "id": "d0f8a917",
   "metadata": {},
   "outputs": [
    {
     "data": {
      "text/plain": [
       "((39, 2), (10, 2), (39,), (10,))"
      ]
     },
     "execution_count": 77,
     "metadata": {},
     "output_type": "execute_result"
    }
   ],
   "source": [
    "train_X.shape, test_X.shape, train_y.shape, test_y.shape"
   ]
  },
  {
   "cell_type": "markdown",
   "id": "c0202350",
   "metadata": {},
   "source": [
    "## 모델링\n",
    "- train 데이터는 학습 시 사용한다.\n",
    "- 모델의 성능평가는 훈련에 사용되지 않은 test 데이터로 해야한다."
   ]
  },
  {
   "cell_type": "code",
   "execution_count": 83,
   "id": "37a0eeda",
   "metadata": {},
   "outputs": [
    {
     "data": {
      "text/plain": [
       "1.0"
      ]
     },
     "execution_count": 83,
     "metadata": {},
     "output_type": "execute_result"
    }
   ],
   "source": [
    "# KNN 분류모델 \n",
    "\n",
    "KN = KNeighborsClassifier()\n",
    "\n",
    "KN.fit(train_X, train_y)\n",
    "KN.score(test_X, test_y) # 정확도는 100%"
   ]
  },
  {
   "cell_type": "markdown",
   "id": "5c7638e0",
   "metadata": {},
   "source": [
    "※ 전혀 새로운 값인 (25,150)의 값을 갖는 1(bream)은 어떻게 분류될까?"
   ]
  },
  {
   "cell_type": "code",
   "execution_count": 96,
   "id": "3f281e76",
   "metadata": {},
   "outputs": [
    {
     "data": {
      "image/png": "[encoded data removed]",
      "text/plain": [
       "<Figure size 432x288 with 1 Axes>"
      ]
     },
     "metadata": {
      "needs_background": "light"
     },
     "output_type": "display_data"
    }
   ],
   "source": [
    "# 새로운 값 (25,150) 등장\n",
    "\n",
    "plt.figure()\n",
    "\n",
    "plt.scatter(fish_data[:,0], fish_data[:,1])\n",
    "plt.scatter(25, 150, marker = '^') # 새로운 값 - 직관적인 시각으로 1(bream)에 가까워 보이고, 실제로도 1이 맞음.\n",
    "\n",
    "plt.xlabel('length')\n",
    "plt.ylabel('weight')\n",
    "plt.show()"
   ]
  },
  {
   "cell_type": "code",
   "execution_count": 94,
   "id": "1a9ccfe1",
   "metadata": {},
   "outputs": [
    {
     "data": {
      "text/plain": [
       "array([0.])"
      ]
     },
     "execution_count": 94,
     "metadata": {},
     "output_type": "execute_result"
    }
   ],
   "source": [
    "KN.predict([[25,150]]) # 0(smelt)으로 분류"
   ]
  },
  {
   "cell_type": "markdown",
   "id": "97ddf718",
   "metadata": {},
   "source": [
    "#### \"kneighbors() method\" in KNeighborsClassifier\n",
    "- 주어진 샘플에서 가장 가까운 이웃을 찾아주는 메서드\n",
    "- 가까운 이웃의 거리와 인덱스를 찾아준다."
   ]
  },
  {
   "cell_type": "code",
   "execution_count": 118,
   "id": "c7bc41f8",
   "metadata": {},
   "outputs": [],
   "source": [
    "# (25,150)과 가장 가까운 이웃 5개 찾아줌 (n_neighbors = 5로 설정되어 있기 때문)\n",
    "\n",
    "distances, indexes = KN.kneighbors([[25,150]])"
   ]
  },
  {
   "cell_type": "code",
   "execution_count": 119,
   "id": "6d9022f4",
   "metadata": {},
   "outputs": [
    {
     "name": "stdout",
     "output_type": "stream",
     "text": [
      "[[ 92.00086956 130.48375378 130.73859415 137.17988191 138.39320793]]\n"
     ]
    }
   ],
   "source": [
    "print(distances)"
   ]
  },
  {
   "cell_type": "code",
   "execution_count": 117,
   "id": "6c08fbc4",
   "metadata": {},
   "outputs": [
    {
     "data": {
      "image/png": "[encoded data removed]",
      "text/plain": [
       "<Figure size 432x288 with 1 Axes>"
      ]
     },
     "metadata": {
      "needs_background": "light"
     },
     "output_type": "display_data"
    }
   ],
   "source": [
    "# train 데이터를 이용한 시각화\n",
    "\n",
    "plt.scatter(train_X[:,0], train_X[:,1])\n",
    "plt.scatter(25, 150, marker = '^')\n",
    "plt.scatter(train_X[indexes,0], train_X[indexes,1], c = 'red', marker = 'D') # nearest neighbors\n",
    "\n",
    "plt.xlabel('length')\n",
    "plt.ylabel('weight')\n",
    "plt.show()"
   ]
  },
  {
   "cell_type": "markdown",
   "id": "9e67097a",
   "metadata": {},
   "source": [
    "- 위의 그래프에서 그래프상 더 멀어보이는 값들이 가까운 이웃으로 선정된 것을 볼 수 있다.  \n",
    "- 이유는??  \n",
    "→ 두 특성의 스케일이 다르기 때문\n",
    "- 알고리즘이 거리 기반 알고리즘일 때 특성들 간의 스케일 차이가 크면 올바른 예측이 불가능하다.  \n",
    "→ 올바른 전처리 필요\n",
    "\n",
    "## Standard Score Scaling\n",
    "- Standard Score, 표준점수(혹은 z score)는 각 특성값이 0에서 표준편차의 몇 배만큼 떨어져 있는지 나타냄\n",
    "- 중요한 점은 test 데이터도 train 데이터의 평균/표준편차를 이용하여 스케일링을 해야한다는 것임"
   ]
  },
  {
   "cell_type": "code",
   "execution_count": 136,
   "id": "9c7d6e4e",
   "metadata": {},
   "outputs": [
    {
     "name": "stdout",
     "output_type": "stream",
     "text": [
      "[[-1.26962093 -1.31130434]\n",
      " [-0.17279614 -0.63100926]\n",
      " [-1.51665354 -1.34129486]\n",
      " [-0.0838644  -0.48411693]\n",
      " [-1.71427963 -1.35108768]]\n"
     ]
    }
   ],
   "source": [
    "# Standard Score Scaling\n",
    "\n",
    "mean = np.mean(train_X, axis = 0)\n",
    "std = np.std(train_X, axis = 0)\n",
    "\n",
    "train_scaled = (train_X - mean) / std\n",
    "test_scaled = (test_X - mean) / std\n",
    "print(train_scaled[:5])"
   ]
  },
  {
   "cell_type": "code",
   "execution_count": 137,
   "id": "85d9329b",
   "metadata": {},
   "outputs": [
    {
     "data": {
      "text/plain": [
       "1.0"
      ]
     },
     "execution_count": 137,
     "metadata": {},
     "output_type": "execute_result"
    }
   ],
   "source": [
    "# 스케일링한 데이터로 다시 모델링\n",
    "\n",
    "KN.fit(train_scaled, train_y)\n",
    "KN.score(test_scaled, test_y)"
   ]
  },
  {
   "cell_type": "code",
   "execution_count": 141,
   "id": "8ce9db4a",
   "metadata": {},
   "outputs": [
    {
     "data": {
      "text/plain": [
       "array([1.])"
      ]
     },
     "execution_count": 141,
     "metadata": {},
     "output_type": "execute_result"
    }
   ],
   "source": [
    "# 다시 (25,150) 분류\n",
    "\n",
    "new = ([25,150] - mean) / std\n",
    "KN.predict([new]) # 1(bream)로 정확히 분류!"
   ]
  },
  {
   "cell_type": "code",
   "execution_count": 150,
   "id": "fd5289c9",
   "metadata": {},
   "outputs": [
    {
     "data": {
      "image/png": "[encoded data removed]",
      "text/plain": [
       "<Figure size 432x288 with 1 Axes>"
      ]
     },
     "metadata": {
      "needs_background": "light"
     },
     "output_type": "display_data"
    }
   ],
   "source": [
    "distances, indexes = KN.kneighbors([new])\n",
    "plt.scatter(train_scaled[:,0], train_scaled[:,1])\n",
    "plt.scatter(new[0], new[1], marker = '^')\n",
    "plt.scatter(train_scaled[indexes,0], train_scaled[indexes,1], c = 'red', marker = 'D')\n",
    "\n",
    "plt.xlabel('length')\n",
    "plt.ylabel('weight')\n",
    "plt.show()"
   ]
  },
  {
   "cell_type": "code",
   "execution_count": null,
   "id": "46d7e2a2",
   "metadata": {},
   "outputs": [],
   "source": []
  }
 ],
 "metadata": {
  "kernelspec": {
   "display_name": "Python 3 (ipykernel)",
   "language": "python",
   "name": "python3"
  },
  "language_info": {
   "codemirror_mode": {
    "name": "ipython",
    "version": 3
   },
   "file_extension": ".py",
   "mimetype": "text/x-python",
   "name": "python",
   "nbconvert_exporter": "python",
   "pygments_lexer": "ipython3",
   "version": "3.7.11"
  }
 },
 "nbformat": 4,
 "nbformat_minor": 5
}
