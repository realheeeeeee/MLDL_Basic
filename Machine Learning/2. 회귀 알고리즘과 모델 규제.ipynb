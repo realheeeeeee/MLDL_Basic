{
 "cells": [
  {
   "cell_type": "code",
   "execution_count": 134,
   "id": "a8ac4b0c",
   "metadata": {},
   "outputs": [],
   "source": [
    "# 라이브러리 임포트\n",
    "\n",
    "import numpy as np\n",
    "import pandas as pd\n",
    "\n",
    "import matplotlib.pyplot as plt\n",
    "\n",
    "import warnings\n",
    "warnings.filterwarnings(action = 'ignore')"
   ]
  },
  {
   "cell_type": "code",
   "execution_count": 2,
   "id": "a6455e31",
   "metadata": {},
   "outputs": [],
   "source": [
    "# 예제 데이터 준비하기(농어 길이로 무게 예측하기)\n",
    "\n",
    "perch_length = np.array(\n",
    "    [8.4, 13.7, 15.0, 16.2, 17.4, 18.0, 18.7, 19.0, 19.6, 20.0, \n",
    "     21.0, 21.0, 21.0, 21.3, 22.0, 22.0, 22.0, 22.0, 22.0, 22.5, \n",
    "     22.5, 22.7, 23.0, 23.5, 24.0, 24.0, 24.6, 25.0, 25.6, 26.5, \n",
    "     27.3, 27.5, 27.5, 27.5, 28.0, 28.7, 30.0, 32.8, 34.5, 35.0, \n",
    "     36.5, 36.0, 37.0, 37.0, 39.0, 39.0, 39.0, 40.0, 40.0, 40.0, \n",
    "     40.0, 42.0, 43.0, 43.0, 43.5, 44.0]\n",
    "     ) # 농어의 길이\n",
    "perch_weight = np.array(\n",
    "    [5.9, 32.0, 40.0, 51.5, 70.0, 100.0, 78.0, 80.0, 85.0, 85.0, \n",
    "     110.0, 115.0, 125.0, 130.0, 120.0, 120.0, 130.0, 135.0, 110.0, \n",
    "     130.0, 150.0, 145.0, 150.0, 170.0, 225.0, 145.0, 188.0, 180.0, \n",
    "     197.0, 218.0, 300.0, 260.0, 265.0, 250.0, 250.0, 300.0, 320.0, \n",
    "     514.0, 556.0, 840.0, 685.0, 700.0, 700.0, 690.0, 900.0, 650.0, \n",
    "     820.0, 850.0, 900.0, 1015.0, 820.0, 1100.0, 1000.0, 1100.0, \n",
    "     1000.0, 1000.0]\n",
    "     ) # 농어의 무게"
   ]
  },
  {
   "cell_type": "code",
   "execution_count": 3,
   "id": "09b24f2d",
   "metadata": {},
   "outputs": [
    {
     "data": {
      "image/png": "[encoded data removed]",
      "text/plain": [
       "<Figure size 360x216 with 1 Axes>"
      ]
     },
     "metadata": {
      "needs_background": "light"
     },
     "output_type": "display_data"
    }
   ],
   "source": [
    "# 데이터 시각화\n",
    "\n",
    "plt.figure(figsize = (5,3))\n",
    "plt.scatter(perch_length, perch_weight)\n",
    "\n",
    "plt.xlabel('length')\n",
    "plt.ylabel('weight')\n",
    "\n",
    "plt.show() # 2차 함수 모양으로 분포해있다."
   ]
  },
  {
   "cell_type": "code",
   "execution_count": null,
   "id": "3cdccd04",
   "metadata": {},
   "outputs": [],
   "source": []
  },
  {
   "cell_type": "markdown",
   "id": "4c7bf336",
   "metadata": {},
   "source": [
    "### 설명변수(X) 데이터는 2차원(관측치 * 특성)으로 나타내야 함"
   ]
  },
  {
   "cell_type": "code",
   "execution_count": 4,
   "id": "fac4d9c1",
   "metadata": {},
   "outputs": [],
   "source": [
    "# reshape 메서드: array 배열 구조 바꾸기 ** '-1'로 설정하면 나머지 원소 개수로 자동으로 채워짐\n",
    "\n",
    "perch_length = perch_length.reshape(-1,1) # length = 56이니 -1 (= 56) * 1"
   ]
  },
  {
   "cell_type": "code",
   "execution_count": 5,
   "id": "3d856e13",
   "metadata": {},
   "outputs": [],
   "source": [
    "# 데이터 분할 (train:test = 8:2)\n",
    "\n",
    "from sklearn.model_selection import train_test_split\n",
    "\n",
    "X_train, X_test, y_train, y_test = train_test_split(perch_length, perch_weight,\n",
    "                                                    random_state = 42)"
   ]
  },
  {
   "cell_type": "code",
   "execution_count": 6,
   "id": "8d90480c",
   "metadata": {},
   "outputs": [],
   "source": [
    "from sklearn.neighbors import KNeighborsRegressor"
   ]
  },
  {
   "cell_type": "code",
   "execution_count": 7,
   "id": "0f144951",
   "metadata": {},
   "outputs": [],
   "source": [
    "KNR = KNeighborsRegressor()"
   ]
  },
  {
   "cell_type": "code",
   "execution_count": 8,
   "id": "01773dfd",
   "metadata": {},
   "outputs": [
    {
     "name": "stdout",
     "output_type": "stream",
     "text": [
      "R squre is 0.9928\n"
     ]
    }
   ],
   "source": [
    "KNR.fit(X_train, y_train)\n",
    "\n",
    "print('R squre is {}'.format(round(KNR.score(X_test, y_test), 4)))\n",
    "# 분류 문제에서 score == accuracy, 회귀 문제에서 score == R squre"
   ]
  },
  {
   "cell_type": "code",
   "execution_count": 9,
   "id": "998321f9",
   "metadata": {},
   "outputs": [
    {
     "data": {
      "image/png": "[encoded data removed]",
      "text/plain": [
       "<Figure size 432x288 with 1 Axes>"
      ]
     },
     "metadata": {
      "needs_background": "light"
     },
     "output_type": "display_data"
    }
   ],
   "source": [
    "plt.plot([1,2,3,4],[1,2,3,4], color = 'black')\n",
    "plt.plot([1,2,3,4],[2,2,2,2], color = 'black')\n",
    "plt.plot([3.02,3.02],[2,3.5], color = 'red')\n",
    "plt.plot([2.99,2.99],[3,3.5], color = 'blue')\n",
    "plt.plot([2.99,2.99],[2,3], color = 'green')\n",
    "plt.text(3.05,3.55,'yi')\n",
    "plt.text(3.85,3.65,'y hat')\n",
    "plt.text(3.65,1.83,'y mean')\n",
    "plt.text(3.08,2.75,'SST', color = 'red', size = 15)\n",
    "plt.text(2.6,3.15,'SSE', color = 'blue', size = 15)\n",
    "plt.text(2.6,2.35,'SSR', color = 'green', size = 15)\n",
    "\n",
    "plt.scatter(3,3.5, color = 'black')\n",
    "plt.axis('off')\n",
    "plt.title('Visualization of SST, SSE, SSR')\n",
    "plt.show()"
   ]
  },
  {
   "cell_type": "markdown",
   "id": "eba103d4",
   "metadata": {},
   "source": [
    "## MAE(mean absolute error)\n",
    "- mae는 모델 성능을 직관적으로 확인할 수 있다.\n",
    "- 예) mae = N → '(타겟과) 평균적으로 N 정도 다르다.'라고 해석 가능"
   ]
  },
  {
   "cell_type": "code",
   "execution_count": 10,
   "id": "a3b0a17b",
   "metadata": {},
   "outputs": [
    {
     "data": {
      "text/plain": [
       "19.157142857142862"
      ]
     },
     "execution_count": 10,
     "metadata": {},
     "output_type": "execute_result"
    }
   ],
   "source": [
    "from sklearn.metrics import mean_absolute_error\n",
    "\n",
    "predict = KNR.predict(X_test)\n",
    "mean_absolute_error(y_test, predict)"
   ]
  },
  {
   "cell_type": "markdown",
   "id": "f3aebea4",
   "metadata": {},
   "source": [
    "## 과대적합, 과소적합\n",
    "\n",
    "- 훈련 세트를 가지고 훈련을 시킨 것이므로 테스트 세트보다 훈련 세트의 성능이 떨어지는 것은 이상한 현상  \n",
    " → 과소적합\n",
    "       \n",
    "- 반대로, 훈련 세트에 비해 터무니없이 낮은 테스트 세트 성능  \n",
    " → 과대적합  \n",
    "#### → 과하게 데이터 전반의 특성을 반영하면 과소적합, 과하게 데이터 국지적 특성을 반영하면 과대적합 위험이 있음\n"
   ]
  },
  {
   "cell_type": "markdown",
   "id": "2c81b5d7",
   "metadata": {},
   "source": [
    "- KNN은 이웃의 개수 k를 줄이면 모델을 더 복잡하게 만들 수 있다.(데이터 전체보단 부분의 특성을 반영하므로)  \n",
    "- 반대로 k 개수를 늘리면 더 데이터 전반의 일반적인 패턴 따르므로 과대적합 문제 해결  "
   ]
  },
  {
   "cell_type": "code",
   "execution_count": 11,
   "id": "0537c948",
   "metadata": {},
   "outputs": [
    {
     "name": "stdout",
     "output_type": "stream",
     "text": [
      "훈련 세트의 R squre: 0.9698823289099254\n",
      "테스트 세트의 R squre: 0.992809406101064\n"
     ]
    }
   ],
   "source": [
    "print('훈련 세트의 R squre: {}'.format(KNR.score(X_train,y_train)))\n",
    "print('테스트 세트의 R squre: {}'.format(KNR.score(X_test,y_test)))\n",
    "\n",
    "# 과소적합이라고 추정할 수 있다."
   ]
  },
  {
   "cell_type": "code",
   "execution_count": 12,
   "id": "b85a5fd5",
   "metadata": {},
   "outputs": [
    {
     "data": {
      "text/plain": [
       "KNeighborsRegressor(n_neighbors=3)"
      ]
     },
     "execution_count": 12,
     "metadata": {},
     "output_type": "execute_result"
    }
   ],
   "source": [
    "KNR.n_neighbors = 3\n",
    "KNR.fit(X_train, y_train)"
   ]
  },
  {
   "cell_type": "code",
   "execution_count": 13,
   "id": "3cb3b0d7",
   "metadata": {},
   "outputs": [
    {
     "name": "stdout",
     "output_type": "stream",
     "text": [
      "훈련 세트의 R squre: 0.9804899950518966\n",
      "테스트 세트의 R squre: 0.9746459963987609\n"
     ]
    }
   ],
   "source": [
    "print('훈련 세트의 R squre: {}'.format(KNR.score(X_train,y_train)))\n",
    "print('테스트 세트의 R squre: {}'.format(KNR.score(X_test,y_test)))\n",
    "\n",
    "# 과소적합 문제가 해결됐다고 볼 수 있다."
   ]
  },
  {
   "cell_type": "markdown",
   "id": "7d0fabe0",
   "metadata": {},
   "source": [
    "## 사례기반학습, 모델기반학습\n",
    "\n",
    "모델기반학습 : 알고리즘 훈련 과정이 최적의 모델 파라미터를 찾는 것  \n",
    "사례기반학습 : 훈련 세트를 저장하여 이를 기반으로 학습\n",
    "\n",
    "KNN = 사례기반학습  \n",
    "선형회귀 = 모델기반학습 \n",
    "  \n",
    "사례기반학습의 한계  \n",
    "- KNN같은 사례기반학습은 가지고 있는 데이터 사례와 동떨어진 데이터가 들어오면 옳지 않은 결과를 낼 위험성이 있음    \n",
    "- 예를 들어 새로운 데이터로 'x = 50'(혹은 그 이상)이 들어와도, 가장 근접 세 이웃이 x = [40,44,45], y = [1000,1200,1100]라면 y값을 평균인 1100으로 예측해버림  "
   ]
  },
  {
   "cell_type": "code",
   "execution_count": 14,
   "id": "6036a42b",
   "metadata": {},
   "outputs": [
    {
     "data": {
      "image/png": "[encoded data removed]",
      "text/plain": [
       "<Figure size 720x216 with 3 Axes>"
      ]
     },
     "metadata": {
      "needs_background": "light"
     },
     "output_type": "display_data"
    }
   ],
   "source": [
    "plt.figure(figsize = (10,3))\n",
    "\n",
    "plt.subplot(131)\n",
    "plt.scatter(X_train, y_train)\n",
    "plt.plot([10,45],[y_train.mean(),y_train.mean()], color = 'red', linewidth = 1)\n",
    "\n",
    "plt.subplot(132)\n",
    "plt.scatter(X_train, y_train)\n",
    "plt.plot([15,45],[1000,15], color = 'red', linewidth = 1)\n",
    "\n",
    "plt.subplot(133)\n",
    "plt.scatter(X_train, y_train)\n",
    "plt.plot([15,45],[15,1000], color = 'red', linewidth = 1)\n",
    "\n",
    "plt.show()"
   ]
  },
  {
   "cell_type": "markdown",
   "id": "8287165e",
   "metadata": {},
   "source": [
    "## 선형회귀\n",
    "- 데이터의 특성을 잘 나타내는 직선을 학습하는 알고리즘\n",
    "\n",
    "1번 그래프: 직선의 위치가 훈련세트의 평균 → R squre = 0 (SSR 안의 (y hat - y mean) = 0이 되어버리니)  \n",
    "2번 그래프: 직선의 위치가 완전히 반대 → 평균보다 못한 예측으로 R squre < 0  \n",
    "3번 그래프: 이러한 직선을 찾아야 한다!\n"
   ]
  },
  {
   "cell_type": "code",
   "execution_count": 15,
   "id": "10c4c85b",
   "metadata": {},
   "outputs": [
    {
     "data": {
      "text/plain": [
       "LinearRegression()"
      ]
     },
     "execution_count": 15,
     "metadata": {},
     "output_type": "execute_result"
    }
   ],
   "source": [
    "from sklearn.linear_model import LinearRegression\n",
    "\n",
    "lr = LinearRegression()\n",
    "lr.fit(X_train, y_train)"
   ]
  },
  {
   "cell_type": "code",
   "execution_count": 16,
   "id": "fa611591",
   "metadata": {},
   "outputs": [
    {
     "data": {
      "text/plain": [
       "array([1241.83860323])"
      ]
     },
     "execution_count": 16,
     "metadata": {},
     "output_type": "execute_result"
    }
   ],
   "source": [
    "lr.predict([[50]]) # 원래의 범위를 벗어난 관측치도 예측 가능"
   ]
  },
  {
   "cell_type": "code",
   "execution_count": 17,
   "id": "879a2dc2",
   "metadata": {},
   "outputs": [
    {
     "name": "stdout",
     "output_type": "stream",
     "text": [
      "[39.01714496] -709.0186449535477\n"
     ]
    }
   ],
   "source": [
    "# 파라미터 확인\n",
    "print(lr.coef_, lr.intercept_)\n",
    "\n",
    "# 모델이 y = 39.01714496 * X -709.0186449535477의 직선이라는 것을 알 수 있다."
   ]
  },
  {
   "cell_type": "code",
   "execution_count": 26,
   "id": "edb39e7f",
   "metadata": {},
   "outputs": [
    {
     "data": {
      "image/png": "[encoded data removed]",
      "text/plain": [
       "<Figure size 360x216 with 1 Axes>"
      ]
     },
     "metadata": {
      "needs_background": "light"
     },
     "output_type": "display_data"
    }
   ],
   "source": [
    "# 선형회귀 시각화\n",
    "\n",
    "plt.figure(figsize = (5,3))\n",
    "\n",
    "# 훈련세트 산점도\n",
    "plt.scatter(X_train, y_train)\n",
    "# 직선 그리기\n",
    "plt.plot([10,50], [lr.coef_*15+lr.intercept_, lr.coef_*50+lr.intercept_])\n",
    "# 새로운 예측값\n",
    "plt.scatter(50,lr.coef_*50+lr.intercept_, marker = '^', color = 'red')\n",
    "\n",
    "plt.show()"
   ]
  },
  {
   "cell_type": "code",
   "execution_count": 19,
   "id": "72cd0704",
   "metadata": {},
   "outputs": [
    {
     "name": "stdout",
     "output_type": "stream",
     "text": [
      "훈련 세트의 R squre: 0.939846333997604\n",
      "테스트 세트의 R squre: 0.8247503123313558\n"
     ]
    }
   ],
   "source": [
    "# 선형회귀의 R squre\n",
    "\n",
    "print('훈련 세트의 R squre: {}'.format(lr.score(X_train,y_train)))\n",
    "print('테스트 세트의 R squre: {}'.format(lr.score(X_test,y_test)))"
   ]
  },
  {
   "cell_type": "code",
   "execution_count": null,
   "id": "6f34a773",
   "metadata": {},
   "outputs": [],
   "source": []
  },
  {
   "cell_type": "markdown",
   "id": "74b651c4",
   "metadata": {},
   "source": [
    "## 다항회귀\n",
    "\n",
    "- 현재 사용하는 예제 데이터는 직선보다는 곡선의 형태를 띔\n",
    "- ★ 2차 함수의 그래프를 그리려면 훈련 세트에 제곱항 추가!!"
   ]
  },
  {
   "cell_type": "code",
   "execution_count": 20,
   "id": "cbe86ad1",
   "metadata": {},
   "outputs": [],
   "source": [
    "X_train_2 = np.column_stack((X_train**2, X_train))\n",
    "X_test_2 = np.column_stack((X_test**2, X_test))"
   ]
  },
  {
   "cell_type": "code",
   "execution_count": 21,
   "id": "6a7cad92",
   "metadata": {},
   "outputs": [
    {
     "data": {
      "text/plain": [
       "LinearRegression()"
      ]
     },
     "execution_count": 21,
     "metadata": {},
     "output_type": "execute_result"
    }
   ],
   "source": [
    "lr2 = LinearRegression()\n",
    "lr2.fit(X_train_2, y_train)"
   ]
  },
  {
   "cell_type": "code",
   "execution_count": 23,
   "id": "a975983a",
   "metadata": {},
   "outputs": [
    {
     "data": {
      "text/plain": [
       "array([1573.98423528])"
      ]
     },
     "execution_count": 23,
     "metadata": {},
     "output_type": "execute_result"
    }
   ],
   "source": [
    "lr2.predict([[50**2,50]]) # 다항회귀에도 새로운 변수 추가해보기"
   ]
  },
  {
   "cell_type": "code",
   "execution_count": 25,
   "id": "82f13284",
   "metadata": {},
   "outputs": [
    {
     "name": "stdout",
     "output_type": "stream",
     "text": [
      "[  1.01433211 -21.55792498] 116.05021078278259\n"
     ]
    }
   ],
   "source": [
    "# 파라미터 확인\n",
    "print(lr2.coef_, lr2.intercept_)\n",
    "\n",
    "# 모델이 y = 1.01433211 * X^2 - 21.55792498 * X + 116.05021078278259의 직선이라는 것을 알 수 있다."
   ]
  },
  {
   "cell_type": "code",
   "execution_count": 36,
   "id": "d22ddf3d",
   "metadata": {},
   "outputs": [
    {
     "data": {
      "image/png": "[encoded data removed]",
      "text/plain": [
       "<Figure size 432x288 with 1 Axes>"
      ]
     },
     "metadata": {
      "needs_background": "light"
     },
     "output_type": "display_data"
    }
   ],
   "source": [
    "# 다항회귀 시각화\n",
    "\n",
    "plt.scatter(X_train, y_train)\n",
    "\n",
    "x = np.arange(15,50)\n",
    "plt.plot(x, 1.01433211 * x**2 - 21.55792498 * x + 116.05021078278259, color = 'orange')\n",
    "\n",
    "plt.scatter(50, lr2.predict([[50**2,50]]), marker = '^', color = 'red')\n",
    "plt.xlabel('length')\n",
    "plt.ylabel('weight')\n",
    "\n",
    "plt.show()"
   ]
  },
  {
   "cell_type": "code",
   "execution_count": 37,
   "id": "06ae31f7",
   "metadata": {},
   "outputs": [
    {
     "name": "stdout",
     "output_type": "stream",
     "text": [
      "훈련 세트의 R squre: 0.9706807451768623\n",
      "테스트 세트의 R squre: 0.9775935108325121\n"
     ]
    }
   ],
   "source": [
    "# 다항회귀의 R squre\n",
    "\n",
    "print('훈련 세트의 R squre: {}'.format(lr2.score(X_train_2,y_train)))\n",
    "print('테스트 세트의 R squre: {}'.format(lr2.score(X_test_2,y_test)))"
   ]
  },
  {
   "cell_type": "markdown",
   "id": "79a3f175",
   "metadata": {},
   "source": [
    "## 다중회귀\n",
    "- 선형회귀와 다르게 다양한 특성(X)를 사용하는 회귀분석\n",
    "- 특성 공학(feature engineering): (특성 * 특성). 기존의 특성을 사용해 새로운 특성을 뽑아내는 작업"
   ]
  },
  {
   "cell_type": "code",
   "execution_count": 52,
   "id": "016b34e0",
   "metadata": {
    "scrolled": true
   },
   "outputs": [
    {
     "data": {
      "text/html": [
       "<div>\n",
       "<style scoped>\n",
       "    .dataframe tbody tr th:only-of-type {\n",
       "        vertical-align: middle;\n",
       "    }\n",
       "\n",
       "    .dataframe tbody tr th {\n",
       "        vertical-align: top;\n",
       "    }\n",
       "\n",
       "    .dataframe thead th {\n",
       "        text-align: right;\n",
       "    }\n",
       "</style>\n",
       "<table border=\"1\" class=\"dataframe\">\n",
       "  <thead>\n",
       "    <tr style=\"text-align: right;\">\n",
       "      <th></th>\n",
       "      <th>length</th>\n",
       "      <th>height</th>\n",
       "      <th>width</th>\n",
       "    </tr>\n",
       "  </thead>\n",
       "  <tbody>\n",
       "    <tr>\n",
       "      <th>0</th>\n",
       "      <td>8.4</td>\n",
       "      <td>2.11</td>\n",
       "      <td>1.41</td>\n",
       "    </tr>\n",
       "    <tr>\n",
       "      <th>1</th>\n",
       "      <td>13.7</td>\n",
       "      <td>3.53</td>\n",
       "      <td>2.00</td>\n",
       "    </tr>\n",
       "    <tr>\n",
       "      <th>2</th>\n",
       "      <td>15.0</td>\n",
       "      <td>3.82</td>\n",
       "      <td>2.43</td>\n",
       "    </tr>\n",
       "    <tr>\n",
       "      <th>3</th>\n",
       "      <td>16.2</td>\n",
       "      <td>4.59</td>\n",
       "      <td>2.63</td>\n",
       "    </tr>\n",
       "    <tr>\n",
       "      <th>4</th>\n",
       "      <td>17.4</td>\n",
       "      <td>4.59</td>\n",
       "      <td>2.94</td>\n",
       "    </tr>\n",
       "  </tbody>\n",
       "</table>\n",
       "</div>"
      ],
      "text/plain": [
       "   length   height   width\n",
       "0     8.4     2.11    1.41\n",
       "1    13.7     3.53    2.00\n",
       "2    15.0     3.82    2.43\n",
       "3    16.2     4.59    2.63\n",
       "4    17.4     4.59    2.94"
      ]
     },
     "execution_count": 52,
     "metadata": {},
     "output_type": "execute_result"
    }
   ],
   "source": [
    "# 예제 데이터 불러오기\n",
    "\n",
    "df = pd.read_csv('https://bit.ly/perch_csv_data')\n",
    "df.head()"
   ]
  },
  {
   "cell_type": "code",
   "execution_count": 123,
   "id": "be8bddc5",
   "metadata": {},
   "outputs": [],
   "source": [
    "X_train, X_test, y_train, y_test = train_test_split(df, perch_weight, random_state = 42)"
   ]
  },
  {
   "cell_type": "markdown",
   "id": "0ddc4470",
   "metadata": {},
   "source": [
    "## PolynomialFeatures\n",
    "- 각 특성을 제곱한 항 추가 + 특성끼리 서로 곱한 항 추가\n",
    "- 특성 공학에 유용"
   ]
  },
  {
   "cell_type": "code",
   "execution_count": 108,
   "id": "6c04e237",
   "metadata": {},
   "outputs": [],
   "source": [
    "from sklearn.preprocessing import PolynomialFeatures"
   ]
  },
  {
   "cell_type": "code",
   "execution_count": 109,
   "id": "52aa418d",
   "metadata": {},
   "outputs": [
    {
     "data": {
      "text/plain": [
       "array([[1., 2., 3., 4., 6., 9.]])"
      ]
     },
     "execution_count": 109,
     "metadata": {},
     "output_type": "execute_result"
    }
   ],
   "source": [
    "# example\n",
    "\n",
    "poly = PolynomialFeatures()\n",
    "poly.fit_transform([[2,3]]) # [1*1, 2*1, 3*1, 2*2, 2*3, 3*3]"
   ]
  },
  {
   "cell_type": "code",
   "execution_count": 120,
   "id": "1a5c17ab",
   "metadata": {},
   "outputs": [
    {
     "name": "stdout",
     "output_type": "stream",
     "text": [
      "(42, 9) (14, 9)\n"
     ]
    }
   ],
   "source": [
    "poly = PolynomialFeatures(include_bias = False) # include_bias = False → 절편(1*1)를 제외함\n",
    "poly.fit(X_train)\n",
    "\n",
    "X_train_poly = poly.transform(X_train)\n",
    "X_test_poly = poly.transform(X_test)\n",
    "\n",
    "print(X_train_poly.shape, X_test_poly.shape)"
   ]
  },
  {
   "cell_type": "code",
   "execution_count": 122,
   "id": "74bb322b",
   "metadata": {},
   "outputs": [
    {
     "data": {
      "text/plain": [
       "['x0', 'x1', 'x2', 'x0^2', 'x0 x1', 'x0 x2', 'x1^2', 'x1 x2', 'x2^2']"
      ]
     },
     "execution_count": 122,
     "metadata": {},
     "output_type": "execute_result"
    }
   ],
   "source": [
    "# 어떤 조합으로 만들어졌는지 확인\n",
    "\n",
    "poly.get_feature_names()"
   ]
  },
  {
   "cell_type": "code",
   "execution_count": 119,
   "id": "a243d403",
   "metadata": {},
   "outputs": [
    {
     "name": "stdout",
     "output_type": "stream",
     "text": [
      "훈련 세트의 R squre: 0.9999999999938143\n",
      "테스트 세트의 R squre: -144.40744532797535\n"
     ]
    }
   ],
   "source": [
    "from sklearn.linear_model import LinearRegression\n",
    "\n",
    "lr = LinearRegression()\n",
    "lr.fit(X_train_poly, y_train)\n",
    "\n",
    "# 다중회귀의 R squre\n",
    "\n",
    "print('훈련 세트의 R squre: {}'.format(lr.score(X_train_poly,y_train)))\n",
    "print('테스트 세트의 R squre: {}'.format(lr.score(X_test_poly,y_test)))"
   ]
  },
  {
   "cell_type": "markdown",
   "id": "51b423cd",
   "metadata": {},
   "source": [
    "## 규제 (Ridge, Lasso)\n",
    "규제: 훈련세트를 과도하게 학습하지 못하도록 규제하는 것 (과적합 방지)  \n",
    "\n",
    "선형회귀모델에 규제를 추가한 모델 릿지 & 라쏘\n",
    "- 릿지: 계수를 제곱한 값을 기준으로 규제 적용\n",
    "- 라쏘: 계수의 절댓값을 기준으로 규제 적용. 계수를 0으로 만들 수 있어 변수 선택법으로 쓸 수도 있음 \n",
    "- 일반적으로 릿지 선호"
   ]
  },
  {
   "cell_type": "code",
   "execution_count": 113,
   "id": "da4aa67c",
   "metadata": {},
   "outputs": [
    {
     "name": "stdout",
     "output_type": "stream",
     "text": [
      "훈련 세트의 R squre: 0.9999999999938143\n",
      "테스트 세트의 R squre: -144.40744532797535\n"
     ]
    }
   ],
   "source": [
    "# 규제를 위한 데이터 만들기 → PolynomialFeatures를 이용하여 3,4제곱까지 추가\n",
    "\n",
    "poly = PolynomialFeatures(degree = 5, include_bias = False)\n",
    "poly.fit(X_train)\n",
    "X_train_poly = poly.transform(X_train)\n",
    "X_test_poly = poly.transform(X_test)\n",
    "\n",
    "# 만든 데이터를 가지고 선형회귀\n",
    "lr.fit(X_train_poly, y_train)\n",
    "\n",
    "print('훈련 세트의 R squre: {}'.format(lr.score(X_train_poly,y_train)))\n",
    "print('테스트 세트의 R squre: {}'.format(lr.score(X_test_poly,y_test))) # 매우매우 과적합 → 규제를 사용해보자"
   ]
  },
  {
   "cell_type": "markdown",
   "id": "3ee882be",
   "metadata": {},
   "source": [
    "### 릿지 회귀\n",
    "\n",
    "- 선형회귀에서 규제를 적용할 때는 계수값의 차이가 크면 공정하게 제어X\n",
    "- 정규화를 통해 스케일 맞춰주자 (라쏘도 마찬가지)\n",
    "- alpha값(hyper parameter)으로 규제 강도 조절 가능(alpha값이 크면 규제 강도 세짐 → 과소적합 위험/alpha값이 작으면 반대)"
   ]
  },
  {
   "cell_type": "code",
   "execution_count": 114,
   "id": "c0818722",
   "metadata": {},
   "outputs": [],
   "source": [
    "# 정규화\n",
    "\n",
    "from sklearn.preprocessing import StandardScaler\n",
    "SS = StandardScaler()\n",
    "SS.fit(X_train_poly)\n",
    "\n",
    "X_train_scaled = SS.transform(X_train_poly)\n",
    "X_test_scaled = SS.transform(X_test_poly)"
   ]
  },
  {
   "cell_type": "code",
   "execution_count": 115,
   "id": "92f301ec",
   "metadata": {},
   "outputs": [
    {
     "name": "stdout",
     "output_type": "stream",
     "text": [
      "훈련 세트의 R squre: 0.9896101671037343\n",
      "테스트 세트의 R squre: 0.979069397761539\n"
     ]
    }
   ],
   "source": [
    "# 릿지회귀\n",
    "\n",
    "from sklearn.linear_model import Ridge\n",
    "ridge = Ridge()\n",
    "ridge.fit(X_train_scaled, y_train)\n",
    "\n",
    "# 릿지회귀 R squre\n",
    "\n",
    "print('훈련 세트의 R squre: {}'.format(ridge.score(X_train_scaled,y_train)))\n",
    "print('테스트 세트의 R squre: {}'.format(ridge.score(X_test_scaled,y_test))) # 확실히 완화되었다."
   ]
  },
  {
   "cell_type": "code",
   "execution_count": 116,
   "id": "21d145c5",
   "metadata": {},
   "outputs": [],
   "source": [
    "train_score = []\n",
    "test_score = []\n",
    "\n",
    "alpha_list = [0.001, 0.01, 0.1, 1, 10, 100]\n",
    "for alpha in alpha_list:\n",
    "    ridge = Ridge(alpha = alpha)\n",
    "    ridge.fit(X_train_scaled, y_train)\n",
    "    \n",
    "    train_score.append(ridge.score(X_train_scaled,y_train))\n",
    "    test_score.append(ridge.score(X_test_scaled, y_test))"
   ]
  },
  {
   "cell_type": "code",
   "execution_count": 126,
   "id": "7c09dd30",
   "metadata": {},
   "outputs": [
    {
     "data": {
      "image/png": "[encoded data removed]",
      "text/plain": [
       "<Figure size 432x288 with 1 Axes>"
      ]
     },
     "metadata": {
      "needs_background": "light"
     },
     "output_type": "display_data"
    }
   ],
   "source": [
    "plt.plot(np.log10(alpha_list), train_score)\n",
    "plt.plot(np.log10(alpha_list), test_score)\n",
    "\n",
    "plt.xlabel('log10(alpha)')\n",
    "plt.ylabel('R squre')\n",
    "plt.show()"
   ]
  },
  {
   "cell_type": "code",
   "execution_count": 127,
   "id": "acb2ff93",
   "metadata": {},
   "outputs": [
    {
     "name": "stdout",
     "output_type": "stream",
     "text": [
      "훈련 세트의 R squre: 0.9903815817570369\n",
      "테스트 세트의 R squre: 0.9827976465386932\n"
     ]
    }
   ],
   "source": [
    "# 가장 차이가 적은 alpha값 최종 하이퍼파라미터로 사용\n",
    "\n",
    "ridge = Ridge(alpha = 0.1)\n",
    "ridge.fit(X_train_scaled, y_train)\n",
    "\n",
    "# 릿지회귀 R squre\n",
    "\n",
    "print('훈련 세트의 R squre: {}'.format(ridge.score(X_train_scaled,y_train)))\n",
    "print('테스트 세트의 R squre: {}'.format(ridge.score(X_test_scaled,y_test))) # 확실히 완화되었다."
   ]
  },
  {
   "cell_type": "markdown",
   "id": "c936e48d",
   "metadata": {},
   "source": [
    "## 라쏘회귀\n",
    "- 릿지회귀 과정과 매우 유사"
   ]
  },
  {
   "cell_type": "code",
   "execution_count": 128,
   "id": "f11befa2",
   "metadata": {},
   "outputs": [
    {
     "name": "stdout",
     "output_type": "stream",
     "text": [
      "훈련 세트의 R squre: 0.989789897208096\n",
      "테스트 세트의 R squre: 0.9800593698421884\n"
     ]
    }
   ],
   "source": [
    "# 라쏘회귀\n",
    "\n",
    "from sklearn.linear_model import Lasso\n",
    "lasso = Lasso()\n",
    "lasso.fit(X_train_scaled, y_train)\n",
    "\n",
    "# 라쏘회귀 R squre\n",
    "\n",
    "print('훈련 세트의 R squre: {}'.format(lasso.score(X_train_scaled,y_train)))\n",
    "print('테스트 세트의 R squre: {}'.format(lasso.score(X_test_scaled,y_test))) # 확실히 완화되었다."
   ]
  },
  {
   "cell_type": "code",
   "execution_count": 135,
   "id": "5bacfce9",
   "metadata": {},
   "outputs": [],
   "source": [
    "train_score = []\n",
    "test_score = []\n",
    "\n",
    "alpha_list = [0.001, 0.01, 0.1, 1, 10, 100]\n",
    "for alpha in alpha_list:\n",
    "    lasso = Lasso(alpha = alpha, max_iter = 10000) # max_iter = 10000 → 라쏘는 반복계산을 수행하는데, 횟수가 부족하면 경고문 발생\n",
    "    lasso.fit(X_train_scaled, y_train)\n",
    "    \n",
    "    train_score.append(lasso.score(X_train_scaled,y_train))\n",
    "    test_score.append(lasso.score(X_test_scaled, y_test))"
   ]
  },
  {
   "cell_type": "code",
   "execution_count": 137,
   "id": "e1b0fbb2",
   "metadata": {},
   "outputs": [
    {
     "data": {
      "image/png": "[encoded data removed]",
      "text/plain": [
       "<Figure size 432x288 with 1 Axes>"
      ]
     },
     "metadata": {
      "needs_background": "light"
     },
     "output_type": "display_data"
    }
   ],
   "source": [
    "plt.plot(np.log10(alpha_list), train_score)\n",
    "plt.plot(np.log10(alpha_list), test_score)\n",
    "\n",
    "plt.xlabel('log10(alpha)')\n",
    "plt.ylabel('R squre')\n",
    "plt.show()"
   ]
  },
  {
   "cell_type": "code",
   "execution_count": 138,
   "id": "075f1b2c",
   "metadata": {},
   "outputs": [
    {
     "name": "stdout",
     "output_type": "stream",
     "text": [
      "훈련 세트의 R squre: 0.9888067471131867\n",
      "테스트 세트의 R squre: 0.9824470598706695\n"
     ]
    }
   ],
   "source": [
    "# 가장 차이가 적은 alpha값 최종 하이퍼파라미터로 사용\n",
    "\n",
    "lasso = Lasso(alpha = 10)\n",
    "lasso.fit(X_train_scaled, y_train)\n",
    "\n",
    "# 릿지회귀 R squre\n",
    "\n",
    "print('훈련 세트의 R squre: {}'.format(lasso.score(X_train_scaled,y_train)))\n",
    "print('테스트 세트의 R squre: {}'.format(lasso.score(X_test_scaled,y_test))) # 확실히 완화되었다."
   ]
  },
  {
   "cell_type": "code",
   "execution_count": 142,
   "id": "9aa1da5a",
   "metadata": {},
   "outputs": [
    {
     "data": {
      "text/plain": [
       "40"
      ]
     },
     "execution_count": 142,
     "metadata": {},
     "output_type": "execute_result"
    }
   ],
   "source": [
    "# 라쏘회귀가 0으로 만든 계수의 개수\n",
    "\n",
    "(lasso.coef_ == 0).sum() # 40개가 0이 되었다.(= 40개는 불필요한 변수였다.)"
   ]
  },
  {
   "cell_type": "code",
   "execution_count": null,
   "id": "5dfcec07",
   "metadata": {},
   "outputs": [],
   "source": []
  }
 ],
 "metadata": {
  "kernelspec": {
   "display_name": "Python 3 (ipykernel)",
   "language": "python",
   "name": "python3"
  },
  "language_info": {
   "codemirror_mode": {
    "name": "ipython",
    "version": 3
   },
   "file_extension": ".py",
   "mimetype": "text/x-python",
   "name": "python",
   "nbconvert_exporter": "python",
   "pygments_lexer": "ipython3",
   "version": "3.7.11"
  }
 },
 "nbformat": 4,
 "nbformat_minor": 5
}
